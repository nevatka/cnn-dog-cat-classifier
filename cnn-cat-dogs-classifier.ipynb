{
 "cells": [
  {
   "cell_type": "code",
   "execution_count": 4,
   "id": "f57f8f2c",
   "metadata": {},
   "outputs": [],
   "source": [
    "import tensorflow as tf\n",
    "from tensorflow.keras.preprocessing.image import ImageDataGenerator"
   ]
  },
  {
   "cell_type": "markdown",
   "id": "9d7c1504",
   "metadata": {},
   "source": [
    "### Preprocessing the training set\n",
    "###### Firstly, transformations allow for increasing the diversity of the training dataset by applying different transformations to images, such as rotations, translations, resizing, contrast changes, or color normalizations. This way, the model learns to better generalize and cope with different lighting conditions, viewing angles, etc."
   ]
  },
  {
   "cell_type": "code",
   "execution_count": 9,
   "id": "a8cadbc6",
   "metadata": {},
   "outputs": [
    {
     "name": "stdout",
     "output_type": "stream",
     "text": [
      "Found 8005 images belonging to 2 classes.\n"
     ]
    }
   ],
   "source": [
    "\n",
    "train_data_image = ImageDataGenerator(rescale=1./255,\n",
    "                                     shear_range=0.2,\n",
    "                                     zoom_range = 0.2,\n",
    "                                     horizontal_flip = True)\n",
    "training_set = train_data_image.flow_from_directory('dogs-cats/training_set',\n",
    "                                                 target_size = (64, 64),\n",
    "                                                 batch_size = 32,\n",
    "                                                 class_mode = 'binary')"
   ]
  },
  {
   "cell_type": "markdown",
   "id": "f62faa1a",
   "metadata": {},
   "source": [
    "### Preprocessing the test set"
   ]
  },
  {
   "cell_type": "code",
   "execution_count": 10,
   "id": "f3d818d5",
   "metadata": {},
   "outputs": [
    {
     "name": "stdout",
     "output_type": "stream",
     "text": [
      "Found 2023 images belonging to 2 classes.\n"
     ]
    }
   ],
   "source": [
    "# we have to rescale images but CANNOT use the same tranformations as in train set \n",
    "test_data_image = ImageDataGenerator(rescale = 1./255)\n",
    "test_set = test_data_image.flow_from_directory('dogs-cats/test_set',\n",
    "                                            target_size = (64, 64),\n",
    "                                            batch_size = 32,\n",
    "                                            class_mode = 'binary')"
   ]
  },
  {
   "cell_type": "markdown",
   "id": "e8d05015",
   "metadata": {},
   "source": [
    "### Buillding the CNN"
   ]
  },
  {
   "cell_type": "code",
   "execution_count": 12,
   "id": "df858241",
   "metadata": {},
   "outputs": [],
   "source": [
    "cnn = tf.keras.models.Sequential() \n",
    "# convolutional layer\n",
    "cnn.add(tf.keras.layers.Conv2D(filters=32, kernel_size=3, activation='relu', input_shape=[64, 64, 3]))\n",
    "# pooling\n",
    "cnn.add(tf.keras.layers.MaxPool2D(pool_size=2, strides=2))\n",
    "# second convolutional layer\n",
    "cnn.add(tf.keras.layers.Conv2D(filters=32, kernel_size=3, activation='relu'))\n",
    "cnn.add(tf.keras.layers.MaxPool2D(pool_size=2, strides=2))\n",
    "# flattening\n",
    "cnn.add(tf.keras.layers.Flatten())\n",
    "# full connection\n",
    "cnn.add(tf.keras.layers.Dense(units=64, activation='relu'))\n",
    "# output layer\n",
    "cnn.add(tf.keras.layers.Dense(units=1, activation='sigmoid'))"
   ]
  }
 ],
 "metadata": {
  "kernelspec": {
   "display_name": "Python 3 (ipykernel)",
   "language": "python",
   "name": "python3"
  },
  "language_info": {
   "codemirror_mode": {
    "name": "ipython",
    "version": 3
   },
   "file_extension": ".py",
   "mimetype": "text/x-python",
   "name": "python",
   "nbconvert_exporter": "python",
   "pygments_lexer": "ipython3",
   "version": "3.9.13"
  }
 },
 "nbformat": 4,
 "nbformat_minor": 5
}
