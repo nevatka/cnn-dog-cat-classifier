{
 "cells": [
  {
   "cell_type": "code",
   "execution_count": 3,
   "id": "f57f8f2c",
   "metadata": {},
   "outputs": [
    {
     "name": "stderr",
     "output_type": "stream",
     "text": [
      "2023-02-25 16:50:40.035296: I tensorflow/core/platform/cpu_feature_guard.cc:193] This TensorFlow binary is optimized with oneAPI Deep Neural Network Library (oneDNN) to use the following CPU instructions in performance-critical operations:  AVX2 FMA\n",
      "To enable them in other operations, rebuild TensorFlow with the appropriate compiler flags.\n"
     ]
    }
   ],
   "source": [
    "import tensorflow as tf\n",
    "from tensorflow.keras.preprocessing.image import ImageDataGenerator"
   ]
  },
  {
   "cell_type": "markdown",
   "id": "9d7c1504",
   "metadata": {},
   "source": [
    "### Preprocessing the training set\n",
    "###### Firstly, transformations allow for increasing the diversity of the training dataset by applying different transformations to images, such as rotations, translations, resizing, contrast changes, or color normalizations. This way, the model learns to better generalize and cope with different lighting conditions, viewing angles, etc."
   ]
  },
  {
   "cell_type": "code",
   "execution_count": 4,
   "id": "a8cadbc6",
   "metadata": {},
   "outputs": [
    {
     "name": "stdout",
     "output_type": "stream",
     "text": [
      "Found 8005 images belonging to 2 classes.\n"
     ]
    }
   ],
   "source": [
    "\n",
    "train_data_image = ImageDataGenerator(rescale=1./255,\n",
    "                                     shear_range=0.2,\n",
    "                                     zoom_range = 0.2,\n",
    "                                     horizontal_flip = True)\n",
    "training_set = train_data_image.flow_from_directory('dogs-cats/training_set',\n",
    "                                                 target_size = (64, 64),\n",
    "                                                 batch_size = 32,\n",
    "                                                 class_mode = 'binary')"
   ]
  },
  {
   "cell_type": "markdown",
   "id": "f62faa1a",
   "metadata": {},
   "source": [
    "### Preprocessing the test set"
   ]
  },
  {
   "cell_type": "code",
   "execution_count": 5,
   "id": "f3d818d5",
   "metadata": {},
   "outputs": [
    {
     "name": "stdout",
     "output_type": "stream",
     "text": [
      "Found 2023 images belonging to 2 classes.\n"
     ]
    }
   ],
   "source": [
    "# we have to rescale images but CANNOT use the same tranformations as in train set \n",
    "test_data_image = ImageDataGenerator(rescale = 1./255)\n",
    "test_set = test_data_image.flow_from_directory('dogs-cats/test_set',\n",
    "                                            target_size = (64, 64),\n",
    "                                            batch_size = 32,\n",
    "                                            class_mode = 'binary')"
   ]
  },
  {
   "cell_type": "markdown",
   "id": "e8d05015",
   "metadata": {},
   "source": [
    "### Buillding the CNN"
   ]
  },
  {
   "cell_type": "code",
   "execution_count": 6,
   "id": "df858241",
   "metadata": {},
   "outputs": [
    {
     "name": "stderr",
     "output_type": "stream",
     "text": [
      "2023-02-25 16:50:52.130616: I tensorflow/core/platform/cpu_feature_guard.cc:193] This TensorFlow binary is optimized with oneAPI Deep Neural Network Library (oneDNN) to use the following CPU instructions in performance-critical operations:  AVX2 FMA\n",
      "To enable them in other operations, rebuild TensorFlow with the appropriate compiler flags.\n"
     ]
    }
   ],
   "source": [
    "cnn = tf.keras.models.Sequential() \n",
    "# convolutional layer\n",
    "cnn.add(tf.keras.layers.Conv2D(filters=32, kernel_size=3, activation='relu', input_shape=[64, 64, 3]))\n",
    "# pooling\n",
    "cnn.add(tf.keras.layers.MaxPool2D(pool_size=2, strides=2))\n",
    "# second convolutional layer\n",
    "cnn.add(tf.keras.layers.Conv2D(filters=32, kernel_size=3, activation='relu'))\n",
    "cnn.add(tf.keras.layers.MaxPool2D(pool_size=2, strides=2))\n",
    "# flattening\n",
    "cnn.add(tf.keras.layers.Flatten())\n",
    "# full connection\n",
    "cnn.add(tf.keras.layers.Dense(units=64, activation='relu'))\n",
    "# output layer\n",
    "cnn.add(tf.keras.layers.Dense(units=1, activation='sigmoid'))"
   ]
  },
  {
   "cell_type": "markdown",
   "id": "41d81c8d",
   "metadata": {},
   "source": [
    "### Training the CNN"
   ]
  },
  {
   "cell_type": "code",
   "execution_count": 9,
   "id": "31f244aa",
   "metadata": {},
   "outputs": [
    {
     "name": "stdout",
     "output_type": "stream",
     "text": [
      "Epoch 1/10\n",
      "251/251 [==============================] - 71s 277ms/step - loss: 0.5754 - accuracy: 0.6934 - val_loss: 0.5840 - val_accuracy: 0.7034\n",
      "Epoch 2/10\n",
      "251/251 [==============================] - 71s 282ms/step - loss: 0.5372 - accuracy: 0.7248 - val_loss: 0.5176 - val_accuracy: 0.7548\n",
      "Epoch 3/10\n",
      "251/251 [==============================] - 65s 260ms/step - loss: 0.5137 - accuracy: 0.7449 - val_loss: 0.5912 - val_accuracy: 0.7113\n",
      "Epoch 4/10\n",
      "251/251 [==============================] - 59s 235ms/step - loss: 0.4967 - accuracy: 0.7555 - val_loss: 0.4906 - val_accuracy: 0.7692\n",
      "Epoch 5/10\n",
      "251/251 [==============================] - 62s 246ms/step - loss: 0.4788 - accuracy: 0.7641 - val_loss: 0.4800 - val_accuracy: 0.7845\n",
      "Epoch 6/10\n",
      "251/251 [==============================] - 62s 246ms/step - loss: 0.4609 - accuracy: 0.7804 - val_loss: 0.4959 - val_accuracy: 0.7612\n",
      "Epoch 7/10\n",
      "251/251 [==============================] - 62s 249ms/step - loss: 0.4471 - accuracy: 0.7885 - val_loss: 0.4957 - val_accuracy: 0.7736\n",
      "Epoch 8/10\n",
      "251/251 [==============================] - 64s 255ms/step - loss: 0.4424 - accuracy: 0.7871 - val_loss: 0.4612 - val_accuracy: 0.7879\n",
      "Epoch 9/10\n",
      "251/251 [==============================] - 63s 250ms/step - loss: 0.4259 - accuracy: 0.7995 - val_loss: 0.4971 - val_accuracy: 0.7731\n",
      "Epoch 10/10\n",
      "251/251 [==============================] - 61s 245ms/step - loss: 0.4104 - accuracy: 0.8094 - val_loss: 0.4633 - val_accuracy: 0.7865\n"
     ]
    },
    {
     "data": {
      "text/plain": [
       "<keras.callbacks.History at 0x7f85151acdc0>"
      ]
     },
     "execution_count": 9,
     "metadata": {},
     "output_type": "execute_result"
    }
   ],
   "source": [
    "cnn.compile(optimizer='adam', loss='binary_crossentropy', metrics=['accuracy'])\n",
    "cnn.fit(x=training_set, validation_data=test_set, epochs=10)"
   ]
  },
  {
   "cell_type": "code",
   "execution_count": 34,
   "id": "c6c4d3ee",
   "metadata": {},
   "outputs": [],
   "source": [
    "import numpy as np\n",
    "import keras.utils as image\n",
    "\n",
    "def predict_dog_or_cat(file_path):\n",
    "    test_image = image.load_img(file_path, target_size = (64, 64))\n",
    "    test_image = image.img_to_array(test_image)\n",
    "    test_image = np.expand_dims(test_image, axis = 0)\n",
    "    result = cnn.predict(test_image)\n",
    "    training_set.class_indices\n",
    "    if result[0][0] == 1:\n",
    "      prediction = 'This is a dog'\n",
    "    else:\n",
    "      prediction = 'This is a cat'\n",
    "    return prediction"
   ]
  },
  {
   "cell_type": "markdown",
   "id": "39505e79",
   "metadata": {},
   "source": [
    "###### For test purposes I'll take photo of my dog - Figa :) "
   ]
  },
  {
   "attachments": {
    "figa_image-2.jpeg": {
     "image/jpeg": "[encoded data removed]"
    }
   },
   "cell_type": "markdown",
   "id": "de145805",
   "metadata": {},
   "source": [
    "![figa_image-2.jpeg](attachment:figa_image-2.jpeg)"
   ]
  },
  {
   "cell_type": "code",
   "execution_count": 33,
   "id": "9caad9f2",
   "metadata": {},
   "outputs": [
    {
     "name": "stdout",
     "output_type": "stream",
     "text": [
      "1/1 [==============================] - 0s 22ms/step\n",
      "This is a dog\n"
     ]
    }
   ],
   "source": [
    "print(predict_dog_or_cat('dogs-cats/figa_image.jpeg'))"
   ]
  }
 ],
 "metadata": {
  "kernelspec": {
   "display_name": "Python 3 (ipykernel)",
   "language": "python",
   "name": "python3"
  },
  "language_info": {
   "codemirror_mode": {
    "name": "ipython",
    "version": 3
   },
   "file_extension": ".py",
   "mimetype": "text/x-python",
   "name": "python",
   "nbconvert_exporter": "python",
   "pygments_lexer": "ipython3",
   "version": "3.9.13"
  }
 },
 "nbformat": 4,
 "nbformat_minor": 5
}
